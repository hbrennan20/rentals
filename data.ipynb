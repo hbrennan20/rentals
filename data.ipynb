{
 "cells": [
  {
   "cell_type": "code",
   "execution_count": 7,
   "metadata": {},
   "outputs": [
    {
     "data": {
      "text/html": [
       "<div>\n",
       "<style scoped>\n",
       "    .dataframe tbody tr th:only-of-type {\n",
       "        vertical-align: middle;\n",
       "    }\n",
       "\n",
       "    .dataframe tbody tr th {\n",
       "        vertical-align: top;\n",
       "    }\n",
       "\n",
       "    .dataframe thead th {\n",
       "        text-align: right;\n",
       "    }\n",
       "</style>\n",
       "<table border=\"1\" class=\"dataframe\">\n",
       "  <thead>\n",
       "    <tr style=\"text-align: right;\">\n",
       "      <th></th>\n",
       "      <th>Date of Sale (dd/mm/yyyy)</th>\n",
       "      <th>Address</th>\n",
       "      <th>County</th>\n",
       "      <th>Eircode</th>\n",
       "      <th>Price</th>\n",
       "      <th>Not Full Market Price</th>\n",
       "      <th>VAT Exclusive</th>\n",
       "      <th>Description of Property</th>\n",
       "      <th>Property Size Description</th>\n",
       "    </tr>\n",
       "  </thead>\n",
       "  <tbody>\n",
       "    <tr>\n",
       "      <th>0</th>\n",
       "      <td>01/01/2010</td>\n",
       "      <td>5 Braemor Drive, Churchtown, Co.Dublin</td>\n",
       "      <td>Dublin</td>\n",
       "      <td>NaN</td>\n",
       "      <td>�343,000.00</td>\n",
       "      <td>No</td>\n",
       "      <td>No</td>\n",
       "      <td>Second-Hand Dwelling house /Apartment</td>\n",
       "      <td>NaN</td>\n",
       "    </tr>\n",
       "    <tr>\n",
       "      <th>1</th>\n",
       "      <td>03/01/2010</td>\n",
       "      <td>134 Ashewood Walk, Summerhill Lane, Portlaoise</td>\n",
       "      <td>Laois</td>\n",
       "      <td>NaN</td>\n",
       "      <td>�185,000.00</td>\n",
       "      <td>No</td>\n",
       "      <td>Yes</td>\n",
       "      <td>New Dwelling house /Apartment</td>\n",
       "      <td>greater than or equal to 38 sq metres and less...</td>\n",
       "    </tr>\n",
       "    <tr>\n",
       "      <th>2</th>\n",
       "      <td>04/01/2010</td>\n",
       "      <td>1 Meadow Avenue, Dundrum, Dublin 14</td>\n",
       "      <td>Dublin</td>\n",
       "      <td>NaN</td>\n",
       "      <td>�438,500.00</td>\n",
       "      <td>No</td>\n",
       "      <td>No</td>\n",
       "      <td>Second-Hand Dwelling house /Apartment</td>\n",
       "      <td>NaN</td>\n",
       "    </tr>\n",
       "    <tr>\n",
       "      <th>3</th>\n",
       "      <td>04/01/2010</td>\n",
       "      <td>1 The Haven, Mornington</td>\n",
       "      <td>Meath</td>\n",
       "      <td>NaN</td>\n",
       "      <td>�400,000.00</td>\n",
       "      <td>No</td>\n",
       "      <td>No</td>\n",
       "      <td>Second-Hand Dwelling house /Apartment</td>\n",
       "      <td>NaN</td>\n",
       "    </tr>\n",
       "    <tr>\n",
       "      <th>4</th>\n",
       "      <td>04/01/2010</td>\n",
       "      <td>11 Melville Heights, Kilkenny</td>\n",
       "      <td>Kilkenny</td>\n",
       "      <td>NaN</td>\n",
       "      <td>�160,000.00</td>\n",
       "      <td>No</td>\n",
       "      <td>No</td>\n",
       "      <td>Second-Hand Dwelling house /Apartment</td>\n",
       "      <td>NaN</td>\n",
       "    </tr>\n",
       "  </tbody>\n",
       "</table>\n",
       "</div>"
      ],
      "text/plain": [
       "  Date of Sale (dd/mm/yyyy)                                         Address  \\\n",
       "0                01/01/2010          5 Braemor Drive, Churchtown, Co.Dublin   \n",
       "1                03/01/2010  134 Ashewood Walk, Summerhill Lane, Portlaoise   \n",
       "2                04/01/2010             1 Meadow Avenue, Dundrum, Dublin 14   \n",
       "3                04/01/2010                         1 The Haven, Mornington   \n",
       "4                04/01/2010                   11 Melville Heights, Kilkenny   \n",
       "\n",
       "     County Eircode        Price Not Full Market Price VAT Exclusive  \\\n",
       "0    Dublin     NaN  �343,000.00                    No            No   \n",
       "1     Laois     NaN  �185,000.00                    No           Yes   \n",
       "2    Dublin     NaN  �438,500.00                    No            No   \n",
       "3     Meath     NaN  �400,000.00                    No            No   \n",
       "4  Kilkenny     NaN  �160,000.00                    No            No   \n",
       "\n",
       "                 Description of Property  \\\n",
       "0  Second-Hand Dwelling house /Apartment   \n",
       "1          New Dwelling house /Apartment   \n",
       "2  Second-Hand Dwelling house /Apartment   \n",
       "3  Second-Hand Dwelling house /Apartment   \n",
       "4  Second-Hand Dwelling house /Apartment   \n",
       "\n",
       "                           Property Size Description  \n",
       "0                                                NaN  \n",
       "1  greater than or equal to 38 sq metres and less...  \n",
       "2                                                NaN  \n",
       "3                                                NaN  \n",
       "4                                                NaN  "
      ]
     },
     "execution_count": 7,
     "metadata": {},
     "output_type": "execute_result"
    }
   ],
   "source": [
    "import pandas as pd\n",
    "\n",
    "df = pd.read_csv('/Users/hugh/downloads/PPR-ALL 2.csv', low_memory=False)\n",
    "\n",
    "\n",
    "\n",
    "(df.head())\n"
   ]
  },
  {
   "cell_type": "code",
   "execution_count": 6,
   "metadata": {},
   "outputs": [
    {
     "data": {
      "text/plain": [
       "'/Users/hugh/repos/rentals'"
      ]
     },
     "execution_count": 6,
     "metadata": {},
     "output_type": "execute_result"
    }
   ],
   "source": [
    "pwd"
   ]
  },
  {
   "cell_type": "code",
   "execution_count": 9,
   "metadata": {},
   "outputs": [
    {
     "name": "stdout",
     "output_type": "stream",
     "text": [
      "      County  Year  Count  Median_Price\n",
      "0     Carlow  2010    231      157709.0\n",
      "1     Carlow  2011    183      127000.0\n",
      "2     Carlow  2012    266      100000.0\n",
      "3     Carlow  2013    375       90000.0\n",
      "4     Carlow  2014    438      110000.0\n",
      "..       ...   ...    ...           ...\n",
      "385  Wicklow  2020   1739      315000.0\n",
      "386  Wicklow  2021   2147      372000.0\n",
      "387  Wicklow  2022   2173      383259.0\n",
      "388  Wicklow  2023   2372      396475.0\n",
      "389  Wicklow  2024   1898      414096.0\n",
      "\n",
      "[390 rows x 4 columns]\n"
     ]
    }
   ],
   "source": [
    "df['Year'] = pd.to_datetime(df['Date of Sale (dd/mm/yyyy)'], format='%d/%m/%Y').dt.year\n",
    "df['Price'] = df['Price'].replace({'€': '', ',': '', ' ': '', '�': ''}, regex=True).astype(float).astype(int)\n",
    "grouped_df = df.groupby(['County', 'Year']).agg(Count=('Price', 'size'), Median_Price=('Price', 'median')).reset_index()\n",
    "print(grouped_df)\n",
    "\n",
    "\n",
    "grouped_df.to_csv('county_year_prices.csv', index=False)"
   ]
  }
 ],
 "metadata": {
  "kernelspec": {
   "display_name": "base",
   "language": "python",
   "name": "python3"
  },
  "language_info": {
   "codemirror_mode": {
    "name": "ipython",
    "version": 3
   },
   "file_extension": ".py",
   "mimetype": "text/x-python",
   "name": "python",
   "nbconvert_exporter": "python",
   "pygments_lexer": "ipython3",
   "version": "3.11.7"
  }
 },
 "nbformat": 4,
 "nbformat_minor": 2
}
